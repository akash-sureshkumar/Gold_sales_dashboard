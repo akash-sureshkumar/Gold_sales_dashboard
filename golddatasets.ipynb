{
  "nbformat": 4,
  "nbformat_minor": 0,
  "metadata": {
    "colab": {
      "provenance": [],
      "authorship_tag": "ABX9TyPwC5sa37GBPTIpJoAt1dDS",
      "include_colab_link": true
    },
    "kernelspec": {
      "name": "python3",
      "display_name": "Python 3"
    },
    "language_info": {
      "name": "python"
    }
  },
  "cells": [
    {
      "cell_type": "markdown",
      "metadata": {
        "id": "view-in-github",
        "colab_type": "text"
      },
      "source": [
        "<a href=\"https://colab.research.google.com/github/akash-sureshkumar/Gold_sales_dashboard/blob/main/golddatasets.ipynb\" target=\"_parent\"><img src=\"https://colab.research.google.com/assets/colab-badge.svg\" alt=\"Open In Colab\"/></a>"
      ]
    },
    {
      "cell_type": "code",
      "execution_count": null,
      "metadata": {
        "id": "aJhh469-oyUS"
      },
      "outputs": [],
      "source": [
        "import pandas as pd\n",
        "import matplotlib.pyplot as plt\n",
        "import plotly.express as px\n",
        "\n",
        "df=pd.read_csv('/content/gold_sales_2023_2024.csv')\n",
        "\n",
        "print(\" here is the dataset: \")\n",
        "print(df.head())\n",
        "print(\"\\n info:\")\n",
        "print(df.info())\n",
        "\n",
        "df['date'] = pd.to_datetime(df['Date'])\n",
        "\n",
        "df['year'] = df['date'].dt.year\n",
        "product_summary = df.groupby(['Product', 'year'])['Units_Sold'].sum().reset_index()\n",
        "\n",
        "product_pivot = product_summary.pivot(index='Product', columns='year', values='Units_Sold').fillna(0)\n",
        "\n",
        "\n",
        "product_pivot.plot(kind='bar', figsize=(10,6))\n",
        "plt.title(\"product sales comparison\")\n",
        "plt.xlabel(\"products\")\n",
        "plt.ylabel(\"total units sold\")\n",
        "plt.xticks(rotation=45)\n",
        "plt.grid(True)\n",
        "plt.tight_layout()\n",
        "plt.savefig(\"product sales comparison matplotlib_png\") # Corrected saverig to savefig\n",
        "plt.show()\n",
        "\n",
        "fig = px.bar(product_summary,\n",
        "             x='Product',\n",
        "             y='Units_Sold',\n",
        "             color='year',\n",
        "             barmode='group',\n",
        "             title=\"product sales 2023 vs 2024 (Interactive)\")\n",
        "fig.show()\n",
        "\n",
        "df.to_csv(\"cleaned gold datasets\", index=False)"
      ]
    }
  ]
}